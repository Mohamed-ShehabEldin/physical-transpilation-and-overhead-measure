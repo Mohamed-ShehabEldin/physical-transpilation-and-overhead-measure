{
 "cells": [
  {
   "cell_type": "markdown",
   "metadata": {},
   "source": [
    "<h1 align=\"center\">Quantum circuit tranpilation into rotations and introducing an informative measure of overhead at constant number of Qubits</h1>\n",
    "<h4 align=\"center\">Using Python & Qiskit</h4>\n",
    "<h3 align=\"center\">Mohamed Sami ShehabEldin</h3>\n",
    "<h4 align=\"center\">Zewail City of Science and Technology</h4>"
   ]
  },
  {
   "cell_type": "markdown",
   "metadata": {},
   "source": [
    "-------"
   ]
  },
  {
   "cell_type": "markdown",
   "metadata": {},
   "source": [
    "&nbsp;&nbsp;&nbsp;&nbsp; **It is known that quantum circuit overhead is proportional to the number of gates times the number of qubits, and it is usually used to compare the resource usage of different circuits. Here, I am introducing an informative measure (return a number) for circuits with the same number of qubits that does not only convey the number of gates but also how much it is effective in the circuit. For example, a circuit composed of 6 identities is not the same as a circuit contains 6 Pauli gates. This will be useful in physical realization, as quantum gates are physically realized by rotations,  and the new physical circuit will have the same dimensions. However, the same output can be done with different choices of rotations; one can choose many gates of small contributions or many redundant gates with high effect, or just the effective gates. In this work, I am making a function that transpiles the original circuit onto a physical circuit and introduces an informative measure that discriminates the mentioned situations; the measure proposes that the second circuit will have the highest overhead while the last one is the least.**"
   ]
  },
  {
   "cell_type": "markdown",
   "metadata": {},
   "source": [
    "----"
   ]
  },
  {
   "cell_type": "markdown",
   "metadata": {},
   "source": [
    "### Outline\n",
    "<br>\n",
    "<strong>\n",
    "1. Task Definition (from QOSF application)\n",
    "<br>\n",
    "<br>\n",
    "2. Circuit transpilation\n",
    "<br>\n",
    "&nbsp;&nbsp;&nbsp;&nbsp;2.1. Theory\n",
    "<br>\n",
    "&nbsp;&nbsp;&nbsp;&nbsp;2.2. Function 1: parameters of unitary\n",
    "<br>\n",
    "&nbsp;&nbsp;&nbsp;&nbsp;2.3. Function 2: gate to unitary\n",
    "<br>\n",
    "&nbsp;&nbsp;&nbsp;&nbsp;2.4. Function 3: gate transpile\n",
    "<br>\n",
    "&nbsp;&nbsp;&nbsp;&nbsp;2.5. Function 4: location range\n",
    "<br>\n",
    "&nbsp;&nbsp;&nbsp;&nbsp;2.6. The Master Function: Quantum Circuit Transpiler\n",
    "<br>\n",
    "<br>\n",
    "3. OverHead Analysis\n",
    "<br>\n",
    "&nbsp;&nbsp;&nbsp;&nbsp;3.1. Quantifying Circuit Involvement <span style=\"color:red\"> *(Genuinely)*</span>\n",
    "<br>\n",
    "&nbsp;&nbsp;&nbsp;&nbsp;3.2. Reducing the overhead\n",
    "<br>\n",
    "<br>\n",
    "Complementary Part: \"Quantifying Circuit Involvement Implementation\" (in this folder) \n",
    "<strong/>"
   ]
  },
  {
   "cell_type": "markdown",
   "metadata": {},
   "source": [
    "------------"
   ]
  },
  {
   "cell_type": "markdown",
   "metadata": {},
   "source": [
    "## 1. Task Definition (from QOSF application):"
   ]
  },
  {
   "cell_type": "markdown",
   "metadata": {},
   "source": [
    "<img src=\"images/t3.png\" width=\"600\" height=\"500\">"
   ]
  },
  {
   "cell_type": "markdown",
   "metadata": {},
   "source": [
    "--------------"
   ]
  },
  {
   "cell_type": "markdown",
   "metadata": {},
   "source": [
    "## 2. Circuit transpilation:"
   ]
  },
  {
   "cell_type": "markdown",
   "metadata": {},
   "source": [
    "### 2.1. Theory:"
   ]
  },
  {
   "cell_type": "markdown",
   "metadata": {},
   "source": [
    "As we want to transpile any single qubit gate into X and Y rotations, it comes to the mind a well known theorem states that any unitary U can be written as (Neilsen&Chuang P. 175):\n",
    "$$\n",
    "U = e^{i\\alpha} R_z(\\beta)R_y(\\gamma)R_z(\\delta)\n",
    "$$\n",
    "and this has equivlent form:\n",
    "$$\n",
    "U = e^{i\\alpha} R_z(\\beta)R_x(\\gamma)R_z(\\delta)\n",
    "$$\n",
    "This is my key for this task, as I can use it to transform any single qubit gate to $R_zR_xR_z$ and I can reduce any number of gates in series into just three rotation gates $R_zR_xR_z$."
   ]
  },
  {
   "cell_type": "markdown",
   "metadata": {},
   "source": [
    "### 2.2. Function 1: parameters of unitary"
   ]
  },
  {
   "cell_type": "markdown",
   "metadata": {},
   "source": [
    "This function will get the 4 parameters $\\alpha, \\beta,\\gamma, \\delta$ for any given 2*2 unitary matrix. This based in the following analysis:\n",
    "$$\n",
    "U = e^{i\\alpha} R_z(\\beta)R_x(\\gamma)R_z(\\delta)=\n",
    "\\begin{pmatrix} \n",
    "e^{i(2\\alpha-\\beta-\\delta)/2}cos(\\frac{\\gamma}{2}) & e^{i(2\\alpha-\\beta+\\delta+3\\pi)/2}sin(\\frac{\\gamma}{2})\\\\ e^{i(2\\alpha+\\beta-\\delta+3\\pi)/2}sin(\\frac{\\gamma}{2}) & e^{i(2\\alpha+\\beta+\\delta)/2}cos(\\frac{\\gamma}{2}) \n",
    "\\end{pmatrix}\n",
    "$$"
   ]
  },
  {
   "cell_type": "code",
   "execution_count": 1,
   "metadata": {},
   "outputs": [],
   "source": [
    "import numpy as np\n",
    "from numpy.random import randint\n",
    "import scipy.optimize\n",
    "\n",
    "pii=np.pi\n",
    "\n",
    "def par_of_unitary(unitary,message=False):\n",
    "    unitry=np.array(unitary)\n",
    "    \n",
    "    re_u00=np.real(unitary[0][0])  #real part of first entry of unitary matrix\n",
    "    im_u00=np.imag(unitary[0][0])  #imaginary part of first entry of unitary matrix\n",
    "    re_u01=np.real(unitary[0][1])\n",
    "    im_u01=np.imag(unitary[0][1])\n",
    "    re_u10=np.real(unitary[1][0])\n",
    "    im_u10=np.imag(unitary[1][0])\n",
    "    re_u11=np.real(unitary[1][1])\n",
    "    im_u11=np.imag(unitary[1][1])\n",
    "    \n",
    "    def equations(p):    #this is the set of equation came from equating the parameterized form with the given matrix\n",
    "        a,b,c,f = p   #f is the phase, a,b,c are beta, gamma, delta\n",
    "        \n",
    "        f1=(np.cos((-a-c+2*f)/2)*np.cos(b/2)-re_u00)\n",
    "        f2=(np.sin((-a-c+2*f)/2)*np.cos(b/2)-im_u00)\n",
    "        f3=(np.cos((-a+c+2*f+3*pii)/2)*np.sin(b/2)-re_u01)\n",
    "        f4=(np.sin((-a+c+2*f+3*pii)/2)*np.sin(b/2)-im_u01)\n",
    "        f5=(np.cos((a-c+2*f+3*pii)/2)*np.sin(b/2)-re_u10)\n",
    "        f6=(np.sin((a-c+2*f+3*pii)/2)*np.sin(b/2)-im_u10)\n",
    "        f7=(np.cos((a+c+2*f)/2)*np.cos(b/2)-re_u11)\n",
    "        f8=(np.sin((a+c+2*f)/2)*np.cos(b/2)-im_u11)\n",
    "        \n",
    "        return np.asarray((f1,f2,f3,f4,f5,f6,f7,f8,f8))\n",
    "    \n",
    "    #solving this set as homogoneus equation: f1=0,f2=0,...\n",
    "    x = scipy.optimize.leastsq(equations, np.asarray((pii/2,pii/2,pii/2,pii/2)))[0]\n",
    "    \n",
    "    if message:\n",
    "        print(\"The given unitary can be expressed as Rz({alpha})*Rx({beta})*Rz({gamma})*GlobalPhase({phi}))\"\n",
    "          .format(alpha=x[0],beta=x[1],gamma=x[2],phi=x[3]))\n",
    "        print(\"Matching Error: \",equations(x))\n",
    "    \n",
    "    return x\n"
   ]
  },
  {
   "cell_type": "markdown",
   "metadata": {},
   "source": [
    "**Example**:"
   ]
  },
  {
   "cell_type": "code",
   "execution_count": 2,
   "metadata": {},
   "outputs": [],
   "source": [
    "u=np.array([[1,0],[0,1j]])"
   ]
  },
  {
   "cell_type": "code",
   "execution_count": 3,
   "metadata": {},
   "outputs": [
    {
     "name": "stdout",
     "output_type": "stream",
     "text": [
      "The given unitary can be expressed as Rz(0.7853981566846657)*Rx(4.449004883289296e-19)*Rz(0.785398170110231)*GlobalPhase(0.7853981633974484))\n",
      "Matching Error:  [ 0.00000000e+00  0.00000000e+00  1.57296077e-19 -1.57296075e-19\n",
      "  1.57296075e-19 -1.57296077e-19 -1.60812265e-16  0.00000000e+00\n",
      "  0.00000000e+00]\n"
     ]
    }
   ],
   "source": [
    "x=par_of_unitary(u,message=True)"
   ]
  },
  {
   "cell_type": "code",
   "execution_count": 4,
   "metadata": {},
   "outputs": [
    {
     "data": {
      "text/latex": [
       "$\\displaystyle \n",
       "\\text{Circuit = }\n",
       "\\begin{bmatrix}\n",
       "1 & 0  \\\\\n",
       "0 & i  \\\\\n",
       "\\end{bmatrix}\n",
       "$$\n",
       "$"
      ],
      "text/plain": [
       "<IPython.core.display.Math object>"
      ]
     },
     "metadata": {},
     "output_type": "display_data"
    }
   ],
   "source": [
    "from qiskit import *\n",
    "pii=np.pi\n",
    "qc=QuantumCircuit(1)\n",
    "if round(x[0],2)!=0.0: qc.rz(x[0],0)\n",
    "if round(x[1],2)!=0.0: qc.rx(x[1],0)\n",
    "if round(x[2],2)!=0.0: qc.rz(x[2],0)\n",
    "backend = Aer.get_backend('unitary_simulator')\n",
    "unitary = execute(qc,backend).result().get_unitary()\n",
    "from qiskit_textbook.tools import array_to_latex\n",
    "array_to_latex(unitary, pretext=\"\\\\text{Circuit = }\\n\")"
   ]
  },
  {
   "cell_type": "code",
   "execution_count": 5,
   "metadata": {},
   "outputs": [
    {
     "data": {
      "text/html": [
       "<pre style=\"word-wrap: normal;white-space: pre;background: #fff0;line-height: 1.1;font-family: &quot;Courier New&quot;,Courier,monospace\">     ┌──────────┐┌──────────┐\n",
       "q_0: ┤ RZ(pi/4) ├┤ RZ(pi/4) ├\n",
       "     └──────────┘└──────────┘</pre>"
      ],
      "text/plain": [
       "     ┌──────────┐┌──────────┐\n",
       "q_0: ┤ RZ(pi/4) ├┤ RZ(pi/4) ├\n",
       "     └──────────┘└──────────┘"
      ]
     },
     "execution_count": 5,
     "metadata": {},
     "output_type": "execute_result"
    }
   ],
   "source": [
    "qc.draw()"
   ]
  },
  {
   "cell_type": "markdown",
   "metadata": {},
   "source": [
    "Now, we can transform any given 2*2 unitary to Rz,Rx,Rz up to a phase. Usually, when executing a circuit with qiskit, it ignores the phase in get_unitary method."
   ]
  },
  {
   "cell_type": "markdown",
   "metadata": {},
   "source": [
    "### 2.3. Function 2: gate to unitary"
   ]
  },
  {
   "cell_type": "markdown",
   "metadata": {},
   "source": [
    "The very logic step come after the ability of transformation of any unitary to z&x rotations, is to transform gates to unitaries. Qiskit have some problems in this tool so I do it myself (simple)."
   ]
  },
  {
   "cell_type": "code",
   "execution_count": 6,
   "metadata": {},
   "outputs": [],
   "source": [
    "def gate_to_matrix(gate_data):   #gate data : qc.data[gate_number],\n",
    "                                #this convey the regester and all gate information inside a circuit.\n",
    "    gate_object=gate_data[0]    #gate info\n",
    "    register_object=gate_data[1]  #register info, I.E target and control\n",
    "    \n",
    "    qc=QuantumCircuit(len(register_object))   #making new quantum circuit to get its equivlent unitary\n",
    "    \n",
    "    qc.append(gate_object,list(range(len(register_object)))) #adding the gate to the new circuit\n",
    "    backend = Aer.get_backend('unitary_simulator')\n",
    "    unitary = execute(qc,backend).result().get_unitary()   #extract its equivlent unitary\n",
    "    return unitary"
   ]
  },
  {
   "cell_type": "code",
   "execution_count": 7,
   "metadata": {},
   "outputs": [
    {
     "data": {
      "image/png": "[encoded data removed]",
      "text/plain": [
       "<Figure size 539.392x264.88 with 1 Axes>"
      ]
     },
     "execution_count": 7,
     "metadata": {},
     "output_type": "execute_result"
    }
   ],
   "source": [
    "#example\n",
    "qc1=QuantumCircuit(3,2)\n",
    "qc1.h(0)\n",
    "qc1.cx(0,1)\n",
    "qc1.x([0,1])\n",
    "qc1.h([1,2])\n",
    "qc1.measure([0,1],[0,1])\n",
    "qc1.draw(\"mpl\")"
   ]
  },
  {
   "cell_type": "code",
   "execution_count": 8,
   "metadata": {},
   "outputs": [
    {
     "data": {
      "text/plain": [
       "array([[ 0.70710678+0.00000000e+00j,  0.70710678-8.65956056e-17j],\n",
       "       [ 0.70710678+0.00000000e+00j, -0.70710678+8.65956056e-17j]])"
      ]
     },
     "execution_count": 8,
     "metadata": {},
     "output_type": "execute_result"
    }
   ],
   "source": [
    "gate_to_matrix(qc1.data[0])"
   ]
  },
  {
   "cell_type": "markdown",
   "metadata": {},
   "source": [
    "### 2.4. Function 3: gate transpile"
   ]
  },
  {
   "cell_type": "markdown",
   "metadata": {},
   "source": [
    "I think now that my game has been revealed. Just after changing the gate to unitary we can change the unitary to the 3  x&y rotations gates. However, we did not mention CX gate, But the good news is:"
   ]
  },
  {
   "cell_type": "markdown",
   "metadata": {},
   "source": [
    "<table><tr>\n",
    "<td> <img src=\"images/cx1.png\"  /> </td>\n",
    "<td> <img src=\"images/cx2.png\"  /> </td>\n",
    "<td> <img src=\"images/cx3.png\"  /> </td>\n",
    "\n",
    "</tr></table>"
   ]
  },
  {
   "cell_type": "markdown",
   "metadata": {},
   "source": [
    "These three circuits are all equivlent (as X=HZH), so we have to say to CX welcome to the group!"
   ]
  },
  {
   "cell_type": "code",
   "execution_count": 9,
   "metadata": {},
   "outputs": [],
   "source": [
    "def gate_transpile(gate_data):\n",
    "    gate_object=gate_data[0]     #gate info\n",
    "    register_object=gate_data[1] #register info\n",
    "    \n",
    "    if len(register_object)==1:  #I.E if it is unitary on one qubit\n",
    "        u=gate_to_matrix(gate_data)\n",
    "        th=par_of_unitary(u)\n",
    "        qc=QuantumCircuit(1)      #I will return this 1 register circuit\n",
    "        if round(th[0],2)!=0.0: qc.rz(th[0],0)\n",
    "        if round(th[1],2)!=0.0: qc.rx(th[1],0)\n",
    "        if round(th[2],2)!=0.0: qc.rz(th[2],0)\n",
    "            \n",
    "    if len(register_object)==2:  #here I will consider that CX and CZ are the only multi registers gate\n",
    "        qc=QuantumCircuit(2)    #i will return this 2 registers circuit\n",
    "        pii=np.pi\n",
    "        if gate_object.name=='cx':   #X=HZH=rz*rx*rz*z*rz*rx*rz, I will not use recursion for simplicity\n",
    "            qc.rz(pii/2,register_object[1].index)\n",
    "            qc.rx(pii/2,register_object[1].index)\n",
    "            qc.rz(pii/2,register_object[1].index)\n",
    "            qc.cz(register_object[0].index,register_object[1].index)\n",
    "            qc.rz(pii/2,register_object[1].index)\n",
    "            qc.rx(pii/2,register_object[1].index)\n",
    "            qc.rz(pii/2,register_object[1].index)\n",
    "    \n",
    "    return qc\n",
    "        \n",
    "        "
   ]
  },
  {
   "cell_type": "code",
   "execution_count": 10,
   "metadata": {},
   "outputs": [
    {
     "data": {
      "text/html": [
       "<pre style=\"word-wrap: normal;white-space: pre;background: #fff0;line-height: 1.1;font-family: &quot;Courier New&quot;,Courier,monospace\">     ┌──────────┐┌────────┐┌──────────┐\n",
       "q_0: ┤ RZ(pi/2) ├┤ RX(pi) ├┤ RZ(pi/2) ├\n",
       "     └──────────┘└────────┘└──────────┘</pre>"
      ],
      "text/plain": [
       "     ┌──────────┐┌────────┐┌──────────┐\n",
       "q_0: ┤ RZ(pi/2) ├┤ RX(pi) ├┤ RZ(pi/2) ├\n",
       "     └──────────┘└────────┘└──────────┘"
      ]
     },
     "execution_count": 10,
     "metadata": {},
     "output_type": "execute_result"
    }
   ],
   "source": [
    "gate_transpile(qc1.data[2]).draw()"
   ]
  },
  {
   "cell_type": "markdown",
   "metadata": {},
   "source": [
    "### 2.5. Function 4: location range"
   ]
  },
  {
   "cell_type": "markdown",
   "metadata": {},
   "source": [
    "Now in order to apply the resulting circuit of gate_transpile in the right place in the mirror circuit, I just have to to know the location range (initial to final register) of the original gate in the original circuit."
   ]
  },
  {
   "cell_type": "code",
   "execution_count": 11,
   "metadata": {},
   "outputs": [],
   "source": [
    "def location_range(register_object):\n",
    "    ends=[register_object[0].index,register_object[-1].index]   #index of target and control registr\n",
    "    rang=list(range(min(ends),max(ends)+1))   #making a sorted list of their range\n",
    "    return rang"
   ]
  },
  {
   "cell_type": "markdown",
   "metadata": {},
   "source": [
    "### 2.6. The Master Function: Quantum Circuit Transpiler"
   ]
  },
  {
   "cell_type": "markdown",
   "metadata": {},
   "source": [
    "Now, we have all the needed functions to transpile an original circuit to a mirror circuit that only have gates belongs to the restricted group."
   ]
  },
  {
   "cell_type": "code",
   "execution_count": 12,
   "metadata": {},
   "outputs": [],
   "source": [
    "def qc_transpiler(qc):\n",
    "    qn=qc.num_qubits     #number of quantum registers\n",
    "    cn=qc.num_clbits     # --    -- classical --\n",
    "    transpiled_qc=QuantumCircuit(qn,cn)   #the mirror circuit\n",
    "    M=0   #to consider measurment\n",
    "    for gate_data in qc.data:       #run on all gates in the original QC\n",
    "        register_object=gate_data[1]  #register info\n",
    "\n",
    "        if gate_data[0].name==\"measure\":    #considering the measurment\n",
    "            transpiled_qc.measure(register_object[0].index,M)\n",
    "            M=M+1\n",
    "        else:   #other gates transpilation\n",
    "            transpiled_gate=gate_transpile(gate_data)\n",
    "            transpiled_qc.append(transpiled_gate,location_range(register_object))\n",
    "        \n",
    "    return transpiled_qc.decompose()"
   ]
  },
  {
   "cell_type": "code",
   "execution_count": 13,
   "metadata": {},
   "outputs": [
    {
     "data": {
      "image/png": "[encoded data removed]",
      "text/plain": [
       "<Figure size 1081.19x264.88 with 1 Axes>"
      ]
     },
     "execution_count": 13,
     "metadata": {},
     "output_type": "execute_result"
    }
   ],
   "source": [
    "qc2=qc_transpiler(qc1)\n",
    "qc2.draw(\"mpl\")"
   ]
  },
  {
   "cell_type": "markdown",
   "metadata": {},
   "source": [
    "----------"
   ]
  },
  {
   "cell_type": "markdown",
   "metadata": {},
   "source": [
    "## 3. OverHead Analysis"
   ]
  },
  {
   "cell_type": "markdown",
   "metadata": {},
   "source": [
    "### 3.1. Quantifying Circuit Involvement (Genuinely)"
   ]
  },
  {
   "cell_type": "markdown",
   "metadata": {},
   "source": [
    "As mentioned in the statement of the task, the transpiled circuit is much more complicate and delicate or Involved. But how to quantify this Involvement? Let's call this measure \"Involvement\".\n",
    "\n",
    "It may come to the mind that we can just count the number of gates in each cases and this will be a measure of the circuit delicacy. This may be write BUT Is the addition of $R_z(\\pi)$ or $R_z(\\frac{\\pi}{2})$ or $R_z(\\frac{\\pi}{8})$ or $R_z(0.000001)$ contribute with the same Involvement?\n",
    "\n",
    "I want to make a measure that capture that! That is having extra gates that have low effect (like $R_z(0.000001)$ or Identity) will contribute to the Involvement with less amount than having extra gates that are more effective. Note that Circuit depth does not capture that!\n",
    "\n",
    "Abstractly, I will define the circuit A overhead from another circuit B to be:\n",
    "$$\n",
    "\\bf{Overhead(A,B)=Involvement(A)-Involvement(B)}\n",
    "$$"
   ]
  },
  {
   "cell_type": "markdown",
   "metadata": {},
   "source": [
    "Now, I think that I have a regourous method that capture many things, I will introduce it as set of definitions then the intuition will be more obvious in the implementation part.\n",
    "\n",
    "Define:\n",
    "\n",
    "**StateTrip(i): The trace distance between the initial state and the new state just after the $i^{th}$ gate of the circuit.**\n",
    "\n",
    "$$\\bf{GateTrip(i) \\equiv StateTrip(i) - StateTrip(i-1)}$$"
   ]
  },
  {
   "cell_type": "markdown",
   "metadata": {},
   "source": [
    "Now, one can say Ok, let's make the involvment be the sum over all GateTrip(i), as this will capture how significant the gates are! but the problem is the a circuit A, and the same circuit with punsh of identities(small changes) applied everywhere will have the same measure. Also, I think this will be insufficient for gate replacement with equivlent gates. So, to measure how a circuit is delicate one should be delicate too!\n",
    "\n",
    "I figuired out a similar way that can capture all of that, and I think it even capture more than I think!\n",
    "\n",
    "$$\n",
    "\\bf{Involvement(A)= AreaUnder(StateTrip(i)) - |AreaUnder(StateTrip(i))-AreaUnder(gateTrip(i))|}\n",
    "$$"
   ]
  },
  {
   "cell_type": "markdown",
   "metadata": {},
   "source": [
    "where AreaUnder(StateTrip(i)) is just the area under the curve for the whole circuit (this can have a complicated and elegant form, but lets stay simple and sufficient)."
   ]
  },
  {
   "cell_type": "markdown",
   "metadata": {},
   "source": [
    "This will be understood better in python implementation and results.\n",
    "\n",
    "\n",
    "**Implementation this Idea in the other file inside this folder.**"
   ]
  },
  {
   "cell_type": "markdown",
   "metadata": {},
   "source": [
    "**Implications:**\n",
    " * To reduce the Involvement we have to reduce the brutality of the existing gates and there numbers.\n",
    " * The Zero Involved circuit, must have no effective gates."
   ]
  },
  {
   "cell_type": "markdown",
   "metadata": {},
   "source": [
    "The Implementation and Results of this method is in \"Quantifying Circuit Involvement Implementation\" notebook.\n",
    "Because Qiskit State Tomography cannot work after using it many times.\n",
    "(BrokenProcessPool: A process in the process pool was terminated abruptly while the future was running or pending.) (I failed in my search for this problem solution)."
   ]
  },
  {
   "cell_type": "markdown",
   "metadata": {},
   "source": [
    "### 3.2. Reducing the overhead"
   ]
  },
  {
   "cell_type": "markdown",
   "metadata": {},
   "source": [
    "As I have mentioned My key is:\n",
    "$$\n",
    "U = e^{i\\alpha} R_z(\\beta)R_x(\\gamma)R_z(\\delta)\n",
    "$$\n",
    "as I can transform any number of gates in series into just 3 gates.\n",
    "\n",
    "$CZs$ make an obstacle in reducing the number of gates. Fortunately, $Z$ and $I$ commutes with $R_z$, so we can pass $R_z$ through the target gate! and then use $R_z(a)R_z(b)=R_z(a+b)$. we can do more non systematic reduction by using this concept of commutation, for example we can commute a series of pauli's twice, and this should be done case by case."
   ]
  },
  {
   "cell_type": "markdown",
   "metadata": {},
   "source": [
    "Making a function that takes a QC including arbitrary number of CZs and find each sequence of single gates then transform it int 3 rotation will be a long task that is not required. However, I can make a function that return the desired output if we just rewrite the gates of the transpiled circuit. What I mean is the following:\n",
    "\n",
    "(This is ridiculous but I just want t apply the concept.)"
   ]
  },
  {
   "cell_type": "code",
   "execution_count": 14,
   "metadata": {},
   "outputs": [],
   "source": [
    "#this is the function that transform any sequence of rotations gates into 3 rotations\n",
    "\n",
    "def appendrots(qc, register, *instructions):\n",
    "    '''\n",
    "    qc=QuantumCircuit we will apply the sequence on, register= the register where we apply the sequnce\n",
    "    instruction=gates instructions we seek to apply\n",
    "    '''\n",
    "    line=QuantumCircuit(1)    #the line that will carry the sequence\n",
    "    \n",
    "    for i in range(len(instructions)):  #run over all the instructions\n",
    "        name=instructions[i].__getitem__(0).name   #name of the instruction\n",
    "        theta=instructions[i].__getitem__(0).params[0] #parameter of the instruction\n",
    "        if name==\"rz\":\n",
    "            line.rz(theta,0)\n",
    "        if name==\"rx\":\n",
    "            line.rx(theta,0)\n",
    "        #I can continue put if for all gates, but consider we just focus on a line of rotations.\n",
    "        \n",
    "    backend = Aer.get_backend('unitary_simulator')\n",
    "    unitary = execute(line,backend).result().get_unitary()  #getting the corresponding unitary of the line\n",
    "    x=par_of_unitary(unitary)      #getting the corresponding rotation parameters of the unitary\n",
    "\n",
    "    \n",
    "    if round(x[1],2)!=0.0:\n",
    "        if round(x[0],2)!=0.0: qc.rz(x[0],register)\n",
    "        qc.rx(x[1],register)\n",
    "        if round(x[2],2)!=0.0: qc.rz(x[2],register)\n",
    "    else:\n",
    "        if round(x[0],2)!=0.0 or round(x[2],2)!=0.0: qc.rz(x[0]+x[2],register)\n"
   ]
  },
  {
   "cell_type": "markdown",
   "metadata": {},
   "source": [
    "So in this section the user have to code a little part himself instead of just put inputs into a function."
   ]
  },
  {
   "cell_type": "markdown",
   "metadata": {},
   "source": [
    "Now, to reduced the overhead of the circuit in my example, we have to rewrite the instructions, this is ridiculous but I just want to apply the concept."
   ]
  },
  {
   "cell_type": "code",
   "execution_count": 15,
   "metadata": {},
   "outputs": [],
   "source": [
    "qc3=QuantumCircuit(3,2)   #reduced over head circuit\n",
    "I=QuantumCircuit(3,2)   #for instructions"
   ]
  },
  {
   "cell_type": "code",
   "execution_count": 16,
   "metadata": {},
   "outputs": [
    {
     "data": {
      "image/png": "[encoded data removed]",
      "text/plain": [
       "<Figure size 659.792x264.88 with 1 Axes>"
      ]
     },
     "execution_count": 16,
     "metadata": {},
     "output_type": "execute_result"
    }
   ],
   "source": [
    "#the already 3 on sequence leave it\n",
    "qc3.rz(pii/2,0)\n",
    "qc3.rx(pii/2,0)\n",
    "qc3.rz(pii/2,0)  \n",
    "qc3.rz(pii/2,1)\n",
    "qc3.rx(pii/2,1)\n",
    "qc3.rz(pii/2,1)\n",
    "qc3.cz(0,1)\n",
    "qc3.rz(pii/2,0)\n",
    "qc3.rx(pii,0)\n",
    "qc3.rz(pii/2,0)\n",
    "#for mare than 3 on sequnece we apply the function\n",
    "appendrots(qc3,1,\n",
    "            I.rz(pii/2,1),\n",
    "            I.rx(pii/2,1),\n",
    "            I.rz(pii/2,1),\n",
    "            I.rz(pii/2,1),\n",
    "            I.rx(pii,1),\n",
    "            I.rz(pii/2,1),\n",
    "            I.rz(pii/2,1),\n",
    "            I.rx(pii/2,1),\n",
    "            I.rz(pii/2,1))\n",
    "qc3.rz(pii/2,2)\n",
    "qc3.rx(pii/2,2)\n",
    "qc3.rz(pii/2,2)\n",
    "\n",
    "qc3.measure(0,0)\n",
    "qc3.measure(1,1)\n",
    "\n",
    "qc3.draw(\"mpl\")"
   ]
  },
  {
   "cell_type": "markdown",
   "metadata": {},
   "source": [
    "lets commute this $R_z$ over the target gate."
   ]
  },
  {
   "cell_type": "code",
   "execution_count": 17,
   "metadata": {},
   "outputs": [
    {
     "data": {
      "image/png": "[encoded data removed]",
      "text/plain": [
       "<Figure size 659.792x264.88 with 1 Axes>"
      ]
     },
     "execution_count": 17,
     "metadata": {},
     "output_type": "execute_result"
    }
   ],
   "source": [
    "qc4=QuantumCircuit(3,2)   #reduced over head circuit\n",
    "qc4.rz(pii/2,0)\n",
    "qc4.rx(pii/2,0)\n",
    "qc4.rz(pii/2,0)\n",
    "qc4.rz(pii/2,1)\n",
    "qc4.rx(pii/2,1)\n",
    "qc4.cz(0,1)\n",
    "qc4.rz(3*pii/2,1)\n",
    "qc4.rz(pii/2,0)\n",
    "qc4.rx(pii,0)\n",
    "qc4.rz(pii/2,0)\n",
    "qc4.rz(pii/2,2)\n",
    "qc4.rx(pii/2,2)\n",
    "qc4.rz(pii/2,2)\n",
    "qc4.measure(0,0)\n",
    "qc4.measure(1,1)\n",
    "qc4.draw(\"mpl\")"
   ]
  },
  {
   "cell_type": "markdown",
   "metadata": {},
   "source": [
    "As we see, the number of gates reduced keeping all existing gate belong to the restricted group."
   ]
  },
  {
   "cell_type": "markdown",
   "metadata": {},
   "source": [
    "The overhead difference is in the \"Quantifying Circuit Involvement Implementation\" notebook."
   ]
  },
  {
   "cell_type": "markdown",
   "metadata": {},
   "source": [
    "<span style=\"color:blue\">some *blue* text</span>.\n"
   ]
  },
  {
   "cell_type": "code",
   "execution_count": null,
   "metadata": {},
   "outputs": [],
   "source": []
  }
 ],
 "metadata": {
  "@webio": {
   "lastCommId": null,
   "lastKernelId": null
  },
  "kernelspec": {
   "display_name": "Python 3",
   "language": "python",
   "name": "python3"
  },
  "language_info": {
   "codemirror_mode": {
    "name": "ipython",
    "version": 3
   },
   "file_extension": ".py",
   "mimetype": "text/x-python",
   "name": "python",
   "nbconvert_exporter": "python",
   "pygments_lexer": "ipython3",
   "version": "3.7.6"
  }
 },
 "nbformat": 4,
 "nbformat_minor": 4
}
